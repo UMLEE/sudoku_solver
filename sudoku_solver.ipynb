{
 "cells": [
  {
   "cell_type": "code",
   "execution_count": 32,
   "metadata": {
    "collapsed": false
   },
   "outputs": [],
   "source": [
    "#build array blocks\n",
    "x = None\n",
    "puzzle = [\n",
    "    [2,9,5],[7,4,3],[8,6,1],\n",
    "    [4,3,1],[8,6,5],[9,2,7],\n",
    "    [8,7,6],[1,9,2],[5,4,3],\n",
    "    [3,8,7],[4,5,9],[2,1,6],\n",
    "    [6,1,2],[3,8,7],[4,9,5],\n",
    "    [5,4,9],[2,1,6],[7,3,8],\n",
    "    [7,6,3],[5,2,4],[1,8,9],\n",
    "    [9,2,8],[6,7,1],[3,5,4],\n",
    "    [1,5,4],[9,3,8],[6,7,2]\n",
    "\n",
    "]"
   ]
  },
  {
   "cell_type": "code",
   "execution_count": null,
   "metadata": {
    "collapsed": true
   },
   "outputs": [],
   "source": [
    "columns = {\n",
    "    1: [0,3,6,9,12,15,18,21,24], 2: [0,3,6,9,12,15,18,21,24], 3: [0,3,6,9,12,15,18,21,24],\n",
    "}"
   ]
  },
  {
   "cell_type": "code",
   "execution_count": 4,
   "metadata": {
    "collapsed": false
   },
   "outputs": [],
   "source": [
    "#the values are the list inside list ex. puzzle[key][<0,2>]\n",
    "regions = {\n",
    "    1: [0,3,6], 2: [1,4,7], 3: [2,5,8],\n",
    "    4: [9,12,15], 5: [10,13,16], 6: [11,14,17],\n",
    "    7: [18,21,24], 8: [19,22,25], 9: [20,23,26]\n",
    "    \n",
    "}"
   ]
  },
  {
   "cell_type": "code",
   "execution_count": 5,
   "metadata": {
    "collapsed": true
   },
   "outputs": [],
   "source": [
    "#dictionary of row location\n",
    "rows = {\n",
    "    1: [0,1,2], 2: [3,4,5], 3: [6,7,8],\n",
    "    4: [9,10,11], 5: [12,13,14], 6: [15,16,17],\n",
    "    7: [18,19,20], 8: [21,22,23], 9: [24,25,26]\n",
    "}"
   ]
  },
  {
   "cell_type": "markdown",
   "metadata": {},
   "source": [
    "## RULES"
   ]
  },
  {
   "cell_type": "code",
   "execution_count": 12,
   "metadata": {
    "collapsed": false
   },
   "outputs": [
    {
     "data": {
      "text/plain": [
       "[1, 3, 1, 2, 3, 1, 2, 3]"
      ]
     },
     "execution_count": 12,
     "metadata": {},
     "output_type": "execute_result"
    }
   ],
   "source": [
    "#numbers 1-9 can only appear once in a region\n",
    "def check_region(reg):\n",
    "    in_region = []\n",
    "    for i in regions[reg]:\n",
    "        for j in range(3):\n",
    "            if puzzle[i][j] != None:\n",
    "                in_region.append(puzzle[i][j])\n",
    "    return in_region\n",
    "check_region(1)        \n",
    "            "
   ]
  },
  {
   "cell_type": "code",
   "execution_count": 28,
   "metadata": {
    "collapsed": false
   },
   "outputs": [
    {
     "data": {
      "text/plain": [
       "[2, 9, 5, 7, 4, 3, 8, 6, 1]"
      ]
     },
     "execution_count": 28,
     "metadata": {},
     "output_type": "execute_result"
    }
   ],
   "source": [
    "#numbers 1-9 can only appear once in a row\n",
    "def check_row(row):\n",
    "    in_row = []\n",
    "    for i in rows[row]:\n",
    "        for j in range(3):\n",
    "            if puzzle[i][j] != None:\n",
    "                in_row.append(puzzle[i][j])\n",
    "    return in_row\n",
    "check_row(1)"
   ]
  },
  {
   "cell_type": "code",
   "execution_count": null,
   "metadata": {
    "collapsed": true
   },
   "outputs": [],
   "source": [
    "#numbers 1-9 can only apear once in a column\n"
   ]
  },
  {
   "cell_type": "markdown",
   "metadata": {},
   "source": [
    "## Check Answer:"
   ]
  },
  {
   "cell_type": "code",
   "execution_count": 33,
   "metadata": {
    "collapsed": false
   },
   "outputs": [],
   "source": [
    "for i in range(1,10):\n",
    "    check = check_region(i)\n",
    "    if len(set(check)) < len(check):\n",
    "        print (\"False: duplicate in region %d\" % i)\n",
    "    "
   ]
  },
  {
   "cell_type": "code",
   "execution_count": 34,
   "metadata": {
    "collapsed": false
   },
   "outputs": [],
   "source": [
    "for i in range(1,10):\n",
    "    check = check_row(i)\n",
    "    if len(set(check)) < len(check):\n",
    "        print (\"False: duplicate in row %d\" % i)"
   ]
  },
  {
   "cell_type": "code",
   "execution_count": null,
   "metadata": {
    "collapsed": true
   },
   "outputs": [],
   "source": []
  }
 ],
 "metadata": {
  "anaconda-cloud": {},
  "kernelspec": {
   "display_name": "Python [Root]",
   "language": "python",
   "name": "Python [Root]"
  },
  "language_info": {
   "codemirror_mode": {
    "name": "ipython",
    "version": 3
   },
   "file_extension": ".py",
   "mimetype": "text/x-python",
   "name": "python",
   "nbconvert_exporter": "python",
   "pygments_lexer": "ipython3",
   "version": "3.5.1"
  }
 },
 "nbformat": 4,
 "nbformat_minor": 0
}
